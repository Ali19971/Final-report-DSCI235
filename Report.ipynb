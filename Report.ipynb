{
 "cells": [
  {
   "cell_type": "markdown",
   "metadata": {},
   "source": [
    "# Babyhealth analysis using CTU-CHB Intrapartum Cardiotocography Database"
   ]
  },
  {
   "cell_type": "markdown",
   "metadata": {},
   "source": [
    "<p><span style=\"font-size: 18px;\">The Idea of figuring out the overall health of a newborn baby without any hardcore test is very fascinating in itself. It&apos;s a major issue in the medical field since the babies are so fragile we can not perform a lot of tests on them. SO the idea of this project is to come with a solution that can be used to conclude some important insights about the health of a newborn without doing a lot of tests on them.</span></p>\n",
    "<p><span style=\"font-size: 18px;\">We are going to address some very interesting and important analytical questions which will end up giving us very brief knowledge about the nature of the data, the hidden patterns in the dataset, and some really important relationships between various attributes and baby health.</span></p>\n",
    "<p><span style=\"font-size: 18px;\">To come up with some useful insights, I will be answering the following questions:</span></p>\n",
    "<ul style=\"list-style-type: circle;\">\n",
    "    <li><span style=\"font-size: 16px;\"><span style='color: rgb(33, 97, 140); font-family: \"Helvetica Neue\", Helvetica, Arial, sans-serif; font-style: normal; font-variant-ligatures: normal; font-variant-caps: normal; font-weight: 700; letter-spacing: normal; orphans: 2; text-align: left; text-indent: 0px; text-transform: none; white-space: normal; widows: 2; word-spacing: 0px; -webkit-text-stroke-width: 0px; text-decoration-thickness: initial; text-decoration-style: initial; text-decoration-color: initial; float: none; display: inline !important;'>What is the average age of mothers for male and female babies?</span></span></li>\n",
    "    <li><span style=\"font-size: 16px;\"><span style='color: rgb(33, 97, 140); font-family: \"Helvetica Neue\", Helvetica, Arial, sans-serif; font-style: normal; font-variant-ligatures: normal; font-variant-caps: normal; font-weight: 700; letter-spacing: normal; orphans: 2; text-align: left; text-indent: 0px; text-transform: none; white-space: normal; widows: 2; word-spacing: 0px; -webkit-text-stroke-width: 0px; text-decoration-thickness: initial; text-decoration-style: initial; text-decoration-color: initial; float: none; display: inline !important;'><span style='color: rgb(33, 97, 140); font-family: \"Helvetica Neue\", Helvetica, Arial, sans-serif; font-style: normal; font-variant-ligatures: normal; font-variant-caps: normal; font-weight: 700; letter-spacing: normal; orphans: 2; text-align: left; text-indent: 0px; text-transform: none; white-space: normal; widows: 2; word-spacing: 0px; -webkit-text-stroke-width: 0px; text-decoration-thickness: initial; text-decoration-style: initial; text-decoration-color: initial; float: none; display: inline !important;'>What is the value under which 95% of the gestweeks would lie?</span></span></span></li>\n",
    "    <li><span style=\"font-size: 16px;\"><span style='color: rgb(33, 97, 140); font-family: \"Helvetica Neue\", Helvetica, Arial, sans-serif; font-style: normal; font-variant-ligatures: normal; font-variant-caps: normal; font-weight: 700; letter-spacing: normal; orphans: 2; text-align: left; text-indent: 0px; text-transform: none; white-space: normal; widows: 2; word-spacing: 0px; -webkit-text-stroke-width: 0px; text-decoration-thickness: initial; text-decoration-style: initial; text-decoration-color: initial; float: none; display: inline !important;'><span style='color: rgb(33, 97, 140); font-family: \"Helvetica Neue\", Helvetica, Arial, sans-serif; font-style: normal; font-variant-ligatures: normal; font-variant-caps: normal; font-weight: 700; letter-spacing: normal; orphans: 2; text-align: left; text-indent: 0px; text-transform: none; white-space: normal; widows: 2; word-spacing: 0px; -webkit-text-stroke-width: 0px; text-decoration-thickness: initial; text-decoration-style: initial; text-decoration-color: initial; float: none; display: inline !important;'><span style='color: rgb(33, 97, 140); font-family: \"Helvetica Neue\", Helvetica, Arial, sans-serif; font-style: normal; font-variant-ligatures: normal; font-variant-caps: normal; font-weight: 700; letter-spacing: normal; orphans: 2; text-align: left; text-indent: 0px; text-transform: none; white-space: normal; widows: 2; word-spacing: 0px; -webkit-text-stroke-width: 0px; text-decoration-thickness: initial; text-decoration-style: initial; text-decoration-color: initial; float: none; display: inline !important;'>Identify the parity for most of the mothers?</span></span></span></span></li>\n",
    "    <li><span style=\"font-size: 16px;\"><span style='color: rgb(33, 97, 140); font-family: \"Helvetica Neue\", Helvetica, Arial, sans-serif; font-style: normal; font-variant-ligatures: normal; font-variant-caps: normal; font-weight: 700; letter-spacing: normal; orphans: 2; text-align: left; text-indent: 0px; text-transform: none; white-space: normal; widows: 2; word-spacing: 0px; -webkit-text-stroke-width: 0px; text-decoration-thickness: initial; text-decoration-style: initial; text-decoration-color: initial; float: none; display: inline !important;'><span style='color: rgb(33, 97, 140); font-family: \"Helvetica Neue\", Helvetica, Arial, sans-serif; font-style: normal; font-variant-ligatures: normal; font-variant-caps: normal; font-weight: 700; letter-spacing: normal; orphans: 2; text-align: left; text-indent: 0px; text-transform: none; white-space: normal; widows: 2; word-spacing: 0px; -webkit-text-stroke-width: 0px; text-decoration-thickness: initial; text-decoration-style: initial; text-decoration-color: initial; float: none; display: inline !important;'><span style='color: rgb(33, 97, 140); font-family: \"Helvetica Neue\", Helvetica, Arial, sans-serif; font-style: normal; font-variant-ligatures: normal; font-variant-caps: normal; font-weight: 700; letter-spacing: normal; orphans: 2; text-align: left; text-indent: 0px; text-transform: none; white-space: normal; widows: 2; word-spacing: 0px; -webkit-text-stroke-width: 0px; text-decoration-thickness: initial; text-decoration-style: initial; text-decoration-color: initial; float: none; display: inline !important;'><span style='color: rgb(33, 97, 140); font-family: \"Helvetica Neue\", Helvetica, Arial, sans-serif; font-style: normal; font-variant-ligatures: normal; font-variant-caps: normal; font-weight: 700; letter-spacing: normal; orphans: 2; text-align: left; text-indent: 0px; text-transform: none; white-space: normal; widows: 2; word-spacing: 0px; -webkit-text-stroke-width: 0px; text-decoration-thickness: initial; text-decoration-style: initial; text-decoration-color: initial; float: none; display: inline !important;'>Compare the mean and trimmed mean of age and comment on the presence of outliers. Back your answer up with a boxplot.</span></span></span></span></span></li>\n",
    "    <li><span style=\"font-size: 16px;\"><span style='color: rgb(33, 97, 140); font-family: \"Helvetica Neue\", Helvetica, Arial, sans-serif; font-style: normal; font-variant-ligatures: normal; font-variant-caps: normal; font-weight: 700; letter-spacing: normal; orphans: 2; text-align: left; text-indent: 0px; text-transform: none; white-space: normal; widows: 2; word-spacing: 0px; -webkit-text-stroke-width: 0px; text-decoration-thickness: initial; text-decoration-style: initial; text-decoration-color: initial; float: none; display: inline !important;'><span style='color: rgb(33, 97, 140); font-family: \"Helvetica Neue\", Helvetica, Arial, sans-serif; font-style: normal; font-variant-ligatures: normal; font-variant-caps: normal; font-weight: 700; letter-spacing: normal; orphans: 2; text-align: left; text-indent: 0px; text-transform: none; white-space: normal; widows: 2; word-spacing: 0px; -webkit-text-stroke-width: 0px; text-decoration-thickness: initial; text-decoration-style: initial; text-decoration-color: initial; float: none; display: inline !important;'><span style='color: rgb(33, 97, 140); font-family: \"Helvetica Neue\", Helvetica, Arial, sans-serif; font-style: normal; font-variant-ligatures: normal; font-variant-caps: normal; font-weight: 700; letter-spacing: normal; orphans: 2; text-align: left; text-indent: 0px; text-transform: none; white-space: normal; widows: 2; word-spacing: 0px; -webkit-text-stroke-width: 0px; text-decoration-thickness: initial; text-decoration-style: initial; text-decoration-color: initial; float: none; display: inline !important;'><span style='color: rgb(33, 97, 140); font-family: \"Helvetica Neue\", Helvetica, Arial, sans-serif; font-style: normal; font-variant-ligatures: normal; font-variant-caps: normal; font-weight: 700; letter-spacing: normal; orphans: 2; text-align: left; text-indent: 0px; text-transform: none; white-space: normal; widows: 2; word-spacing: 0px; -webkit-text-stroke-width: 0px; text-decoration-thickness: initial; text-decoration-style: initial; text-decoration-color: initial; float: none; display: inline !important;'><span style='color: rgb(33, 97, 140); font-family: \"Helvetica Neue\", Helvetica, Arial, sans-serif; font-style: normal; font-variant-ligatures: normal; font-variant-caps: normal; font-weight: 700; letter-spacing: normal; orphans: 2; text-align: left; text-indent: 0px; text-transform: none; white-space: normal; widows: 2; word-spacing: 0px; -webkit-text-stroke-width: 0px; text-decoration-thickness: initial; text-decoration-style: initial; text-decoration-color: initial; float: none; display: inline !important;'>Find the percentage variation in age for the diabetic and non-diabetic patients.</span></span></span></span></span></span></li>\n",
    "    <li><span style=\"font-size: 16px;\"><span style='color: rgb(33, 97, 140); font-family: \"Helvetica Neue\", Helvetica, Arial, sans-serif; font-style: normal; font-variant-ligatures: normal; font-variant-caps: normal; font-weight: 700; letter-spacing: normal; orphans: 2; text-align: left; text-indent: 0px; text-transform: none; white-space: normal; widows: 2; word-spacing: 0px; -webkit-text-stroke-width: 0px; text-decoration-thickness: initial; text-decoration-style: initial; text-decoration-color: initial; float: none; display: inline !important;'><span style='color: rgb(33, 97, 140); font-family: \"Helvetica Neue\", Helvetica, Arial, sans-serif; font-style: normal; font-variant-ligatures: normal; font-variant-caps: normal; font-weight: 700; letter-spacing: normal; orphans: 2; text-align: left; text-indent: 0px; text-transform: none; white-space: normal; widows: 2; word-spacing: 0px; -webkit-text-stroke-width: 0px; text-decoration-thickness: initial; text-decoration-style: initial; text-decoration-color: initial; float: none; display: inline !important;'><span style='color: rgb(33, 97, 140); font-family: \"Helvetica Neue\", Helvetica, Arial, sans-serif; font-style: normal; font-variant-ligatures: normal; font-variant-caps: normal; font-weight: 700; letter-spacing: normal; orphans: 2; text-align: left; text-indent: 0px; text-transform: none; white-space: normal; widows: 2; word-spacing: 0px; -webkit-text-stroke-width: 0px; text-decoration-thickness: initial; text-decoration-style: initial; text-decoration-color: initial; float: none; display: inline !important;'><span style='color: rgb(33, 97, 140); font-family: \"Helvetica Neue\", Helvetica, Arial, sans-serif; font-style: normal; font-variant-ligatures: normal; font-variant-caps: normal; font-weight: 700; letter-spacing: normal; orphans: 2; text-align: left; text-indent: 0px; text-transform: none; white-space: normal; widows: 2; word-spacing: 0px; -webkit-text-stroke-width: 0px; text-decoration-thickness: initial; text-decoration-style: initial; text-decoration-color: initial; float: none; display: inline !important;'><span style='color: rgb(33, 97, 140); font-family: \"Helvetica Neue\", Helvetica, Arial, sans-serif; font-style: normal; font-variant-ligatures: normal; font-variant-caps: normal; font-weight: 700; letter-spacing: normal; orphans: 2; text-align: left; text-indent: 0px; text-transform: none; white-space: normal; widows: 2; word-spacing: 0px; -webkit-text-stroke-width: 0px; text-decoration-thickness: initial; text-decoration-style: initial; text-decoration-color: initial; float: none; display: inline !important;'><span style='color: rgb(33, 97, 140); font-family: \"Helvetica Neue\", Helvetica, Arial, sans-serif; font-style: normal; font-variant-ligatures: normal; font-variant-caps: normal; font-weight: 700; letter-spacing: normal; orphans: 2; text-align: left; text-indent: 0px; text-transform: none; white-space: normal; widows: 2; word-spacing: 0px; -webkit-text-stroke-width: 0px; text-decoration-thickness: initial; text-decoration-style: initial; text-decoration-color: initial; float: none; display: inline !important;'>Define a function to plot the categories of the rectype and find the category with the highest frequency</span></span></span></span></span></span></span></li>\n",
    "    <li><span style=\"font-size: 16px;\"><span style='color: rgb(33, 97, 140); font-family: \"Helvetica Neue\", Helvetica, Arial, sans-serif; font-style: normal; font-variant-ligatures: normal; font-variant-caps: normal; font-weight: 700; letter-spacing: normal; orphans: 2; text-align: left; text-indent: 0px; text-transform: none; white-space: normal; widows: 2; word-spacing: 0px; -webkit-text-stroke-width: 0px; text-decoration-thickness: initial; text-decoration-style: initial; text-decoration-color: initial; float: none; display: inline !important;'><span style='color: rgb(33, 97, 140); font-family: \"Helvetica Neue\", Helvetica, Arial, sans-serif; font-style: normal; font-variant-ligatures: normal; font-variant-caps: normal; font-weight: 700; letter-spacing: normal; orphans: 2; text-align: left; text-indent: 0px; text-transform: none; white-space: normal; widows: 2; word-spacing: 0px; -webkit-text-stroke-width: 0px; text-decoration-thickness: initial; text-decoration-style: initial; text-decoration-color: initial; float: none; display: inline !important;'><span style='color: rgb(33, 97, 140); font-family: \"Helvetica Neue\", Helvetica, Arial, sans-serif; font-style: normal; font-variant-ligatures: normal; font-variant-caps: normal; font-weight: 700; letter-spacing: normal; orphans: 2; text-align: left; text-indent: 0px; text-transform: none; white-space: normal; widows: 2; word-spacing: 0px; -webkit-text-stroke-width: 0px; text-decoration-thickness: initial; text-decoration-style: initial; text-decoration-color: initial; float: none; display: inline !important;'><span style='color: rgb(33, 97, 140); font-family: \"Helvetica Neue\", Helvetica, Arial, sans-serif; font-style: normal; font-variant-ligatures: normal; font-variant-caps: normal; font-weight: 700; letter-spacing: normal; orphans: 2; text-align: left; text-indent: 0px; text-transform: none; white-space: normal; widows: 2; word-spacing: 0px; -webkit-text-stroke-width: 0px; text-decoration-thickness: initial; text-decoration-style: initial; text-decoration-color: initial; float: none; display: inline !important;'><span style='color: rgb(33, 97, 140); font-family: \"Helvetica Neue\", Helvetica, Arial, sans-serif; font-style: normal; font-variant-ligatures: normal; font-variant-caps: normal; font-weight: 700; letter-spacing: normal; orphans: 2; text-align: left; text-indent: 0px; text-transform: none; white-space: normal; widows: 2; word-spacing: 0px; -webkit-text-stroke-width: 0px; text-decoration-thickness: initial; text-decoration-style: initial; text-decoration-color: initial; float: none; display: inline !important;'><span style='color: rgb(33, 97, 140); font-family: \"Helvetica Neue\", Helvetica, Arial, sans-serif; font-style: normal; font-variant-ligatures: normal; font-variant-caps: normal; font-weight: 700; letter-spacing: normal; orphans: 2; text-align: left; text-indent: 0px; text-transform: none; white-space: normal; widows: 2; word-spacing: 0px; -webkit-text-stroke-width: 0px; text-decoration-thickness: initial; text-decoration-style: initial; text-decoration-color: initial; float: none; display: inline !important;'><span style='color: rgb(33, 97, 140); font-family: \"Helvetica Neue\", Helvetica, Arial, sans-serif; font-style: normal; font-variant-ligatures: normal; font-variant-caps: normal; font-weight: 700; letter-spacing: normal; orphans: 2; text-align: left; text-indent: 0px; text-transform: none; white-space: normal; widows: 2; word-spacing: 0px; -webkit-text-stroke-width: 0px; text-decoration-thickness: initial; text-decoration-style: initial; text-decoration-color: initial; float: none; display: inline !important;'>What is the probability of a male baby being healthy, find the same for the female baby.</span></span></span></span></span></span></span></span></li>\n",
    "    <li><span style=\"font-size: 16px;\"><span style='color: rgb(33, 97, 140); font-family: \"Helvetica Neue\", Helvetica, Arial, sans-serif; font-style: normal; font-variant-ligatures: normal; font-variant-caps: normal; font-weight: 700; letter-spacing: normal; orphans: 2; text-align: left; text-indent: 0px; text-transform: none; white-space: normal; widows: 2; word-spacing: 0px; -webkit-text-stroke-width: 0px; text-decoration-thickness: initial; text-decoration-style: initial; text-decoration-color: initial; float: none; display: inline !important;'><span style='color: rgb(33, 97, 140); font-family: \"Helvetica Neue\", Helvetica, Arial, sans-serif; font-style: normal; font-variant-ligatures: normal; font-variant-caps: normal; font-weight: 700; letter-spacing: normal; orphans: 2; text-align: left; text-indent: 0px; text-transform: none; white-space: normal; widows: 2; word-spacing: 0px; -webkit-text-stroke-width: 0px; text-decoration-thickness: initial; text-decoration-style: initial; text-decoration-color: initial; float: none; display: inline !important;'><span style='color: rgb(33, 97, 140); font-family: \"Helvetica Neue\", Helvetica, Arial, sans-serif; font-style: normal; font-variant-ligatures: normal; font-variant-caps: normal; font-weight: 700; letter-spacing: normal; orphans: 2; text-align: left; text-indent: 0px; text-transform: none; white-space: normal; widows: 2; word-spacing: 0px; -webkit-text-stroke-width: 0px; text-decoration-thickness: initial; text-decoration-style: initial; text-decoration-color: initial; float: none; display: inline !important;'><span style='color: rgb(33, 97, 140); font-family: \"Helvetica Neue\", Helvetica, Arial, sans-serif; font-style: normal; font-variant-ligatures: normal; font-variant-caps: normal; font-weight: 700; letter-spacing: normal; orphans: 2; text-align: left; text-indent: 0px; text-transform: none; white-space: normal; widows: 2; word-spacing: 0px; -webkit-text-stroke-width: 0px; text-decoration-thickness: initial; text-decoration-style: initial; text-decoration-color: initial; float: none; display: inline !important;'><span style='color: rgb(33, 97, 140); font-family: \"Helvetica Neue\", Helvetica, Arial, sans-serif; font-style: normal; font-variant-ligatures: normal; font-variant-caps: normal; font-weight: 700; letter-spacing: normal; orphans: 2; text-align: left; text-indent: 0px; text-transform: none; white-space: normal; widows: 2; word-spacing: 0px; -webkit-text-stroke-width: 0px; text-decoration-thickness: initial; text-decoration-style: initial; text-decoration-color: initial; float: none; display: inline !important;'><span style='color: rgb(33, 97, 140); font-family: \"Helvetica Neue\", Helvetica, Arial, sans-serif; font-style: normal; font-variant-ligatures: normal; font-variant-caps: normal; font-weight: 700; letter-spacing: normal; orphans: 2; text-align: left; text-indent: 0px; text-transform: none; white-space: normal; widows: 2; word-spacing: 0px; -webkit-text-stroke-width: 0px; text-decoration-thickness: initial; text-decoration-style: initial; text-decoration-color: initial; float: none; display: inline !important;'><span style='color: rgb(33, 97, 140); font-family: \"Helvetica Neue\", Helvetica, Arial, sans-serif; font-style: normal; font-variant-ligatures: normal; font-variant-caps: normal; font-weight: 700; letter-spacing: normal; orphans: 2; text-align: left; text-indent: 0px; text-transform: none; white-space: normal; widows: 2; word-spacing: 0px; -webkit-text-stroke-width: 0px; text-decoration-thickness: initial; text-decoration-style: initial; text-decoration-color: initial; float: none; display: inline !important;'><span style='color: rgb(33, 97, 140); font-family: \"Helvetica Neue\", Helvetica, Arial, sans-serif; font-style: normal; font-variant-ligatures: normal; font-variant-caps: normal; font-weight: 700; letter-spacing: normal; orphans: 2; text-align: left; text-indent: 0px; text-transform: none; white-space: normal; widows: 2; word-spacing: 0px; -webkit-text-stroke-width: 0px; text-decoration-thickness: initial; text-decoration-style: initial; text-decoration-color: initial; float: none; display: inline !important;'>Given that the mother is diabetic and the rectype is ultrasound find out if the health of the baby is good or not.</span></span></span></span></span></span></span></span></span></li>\n",
    "    <li><span style=\"font-size: 16px;\"><span style='font-size: 18px; color: rgb(33, 97, 140); font-family: \"Helvetica Neue\", Helvetica, Arial, sans-serif; font-style: normal; font-variant-ligatures: normal; font-variant-caps: normal; font-weight: 700; letter-spacing: normal; orphans: 2; text-align: left; text-indent: 0px; text-transform: none; white-space: normal; widows: 2; word-spacing: 0px; -webkit-text-stroke-width: 0px; text-decoration-thickness: initial; text-decoration-style: initial; text-decoration-color: initial; float: none; display: inline !important;'><span style='color: rgb(33, 97, 140); font-family: \"Helvetica Neue\", Helvetica, Arial, sans-serif; font-size: 18px; font-style: normal; font-variant-ligatures: normal; font-variant-caps: normal; font-weight: 700; letter-spacing: normal; orphans: 2; text-align: left; text-indent: 0px; text-transform: none; white-space: normal; widows: 2; word-spacing: 0px; -webkit-text-stroke-width: 0px; text-decoration-thickness: initial; text-decoration-style: initial; text-decoration-color: initial; float: none; display: inline !important;'><span style='color: rgb(33, 97, 140); font-family: \"Helvetica Neue\", Helvetica, Arial, sans-serif; font-size: 18px; font-style: normal; font-variant-ligatures: normal; font-variant-caps: normal; font-weight: 700; letter-spacing: normal; orphans: 2; text-align: left; text-indent: 0px; text-transform: none; white-space: normal; widows: 2; word-spacing: 0px; -webkit-text-stroke-width: 0px; text-decoration-thickness: initial; text-decoration-style: initial; text-decoration-color: initial; float: none; display: inline !important;'><span style='color: rgb(33, 97, 140); font-family: \"Helvetica Neue\", Helvetica, Arial, sans-serif; font-size: 18px; font-style: normal; font-variant-ligatures: normal; font-variant-caps: normal; font-weight: 700; letter-spacing: normal; orphans: 2; text-align: left; text-indent: 0px; text-transform: none; white-space: normal; widows: 2; word-spacing: 0px; -webkit-text-stroke-width: 0px; text-decoration-thickness: initial; text-decoration-style: initial; text-decoration-color: initial; float: none; display: inline !important;'><span style='color: rgb(33, 97, 140); font-family: \"Helvetica Neue\", Helvetica, Arial, sans-serif; font-size: 18px; font-style: normal; font-variant-ligatures: normal; font-variant-caps: normal; font-weight: 700; letter-spacing: normal; orphans: 2; text-align: left; text-indent: 0px; text-transform: none; white-space: normal; widows: 2; word-spacing: 0px; -webkit-text-stroke-width: 0px; text-decoration-thickness: initial; text-decoration-style: initial; text-decoration-color: initial; float: none; display: inline !important;'><span style='color: rgb(33, 97, 140); font-family: \"Helvetica Neue\", Helvetica, Arial, sans-serif; font-size: 16px; font-style: normal; font-variant-ligatures: normal; font-variant-caps: normal; font-weight: 700; letter-spacing: normal; orphans: 2; text-align: left; text-indent: 0px; text-transform: none; white-space: normal; widows: 2; word-spacing: 0px; -webkit-text-stroke-width: 0px; text-decoration-thickness: initial; text-decoration-style: initial; text-decoration-color: initial; float: none; display: inline !important;'><span style='color: rgb(33, 97, 140); font-family: \"Helvetica Neue\", Helvetica, Arial, sans-serif; font-style: normal; font-variant-ligatures: normal; font-variant-caps: normal; font-weight: 700; letter-spacing: normal; orphans: 2; text-align: left; text-indent: 0px; text-transform: none; white-space: normal; widows: 2; word-spacing: 0px; -webkit-text-stroke-width: 0px; text-decoration-thickness: initial; text-decoration-style: initial; text-decoration-color: initial; float: none; display: inline !important;'>What are the chances for a baby to be healthy if the mother is not very young? Compare the result with the same of a young mother.</span></span></span></span></span></span></span></span></li>\n",
    "</ul>"
   ]
  },
  {
   "cell_type": "code",
   "execution_count": 6,
   "metadata": {},
   "outputs": [],
   "source": [
    "import pandas as pd\n",
    "import numpy as np\n",
    "import matplotlib.pyplot as plt\n",
    "import seaborn as sns\n",
    "import warnings\n",
    "warnings.filterwarnings('ignore')\n",
    "\n",
    "%matplotlib inline"
   ]
  },
  {
   "cell_type": "code",
   "execution_count": 7,
   "metadata": {},
   "outputs": [
    {
     "data": {
      "text/html": [
       "<div>\n",
       "<style scoped>\n",
       "    .dataframe tbody tr th:only-of-type {\n",
       "        vertical-align: middle;\n",
       "    }\n",
       "\n",
       "    .dataframe tbody tr th {\n",
       "        vertical-align: top;\n",
       "    }\n",
       "\n",
       "    .dataframe thead th {\n",
       "        text-align: right;\n",
       "    }\n",
       "</style>\n",
       "<table border=\"1\" class=\"dataframe\">\n",
       "  <thead>\n",
       "    <tr style=\"text-align: right;\">\n",
       "      <th></th>\n",
       "      <th>recordID</th>\n",
       "      <th>babyhealth</th>\n",
       "      <th>gestweeks</th>\n",
       "      <th>sex</th>\n",
       "      <th>age</th>\n",
       "      <th>gravidity</th>\n",
       "      <th>parity</th>\n",
       "      <th>diabetes</th>\n",
       "      <th>hypertension</th>\n",
       "      <th>preeclampsia</th>\n",
       "      <th>pyrexia</th>\n",
       "      <th>meconium</th>\n",
       "      <th>noprogress</th>\n",
       "      <th>rectype</th>\n",
       "    </tr>\n",
       "  </thead>\n",
       "  <tbody>\n",
       "    <tr>\n",
       "      <th>0</th>\n",
       "      <td>5086</td>\n",
       "      <td>1</td>\n",
       "      <td>38.0</td>\n",
       "      <td>1.0</td>\n",
       "      <td>27.0</td>\n",
       "      <td>1.0</td>\n",
       "      <td>0.0</td>\n",
       "      <td>0.0</td>\n",
       "      <td>0.0</td>\n",
       "      <td>0.0</td>\n",
       "      <td>0.0</td>\n",
       "      <td>0.0</td>\n",
       "      <td>0.0</td>\n",
       "      <td>1.0</td>\n",
       "    </tr>\n",
       "    <tr>\n",
       "      <th>1</th>\n",
       "      <td>5491</td>\n",
       "      <td>0</td>\n",
       "      <td>40.0</td>\n",
       "      <td>1.0</td>\n",
       "      <td>32.0</td>\n",
       "      <td>1.0</td>\n",
       "      <td>1.0</td>\n",
       "      <td>1.0</td>\n",
       "      <td>0.0</td>\n",
       "      <td>0.0</td>\n",
       "      <td>0.0</td>\n",
       "      <td>0.0</td>\n",
       "      <td>0.0</td>\n",
       "      <td>12.0</td>\n",
       "    </tr>\n",
       "    <tr>\n",
       "      <th>2</th>\n",
       "      <td>5097</td>\n",
       "      <td>0</td>\n",
       "      <td>41.0</td>\n",
       "      <td>1.0</td>\n",
       "      <td>29.0</td>\n",
       "      <td>2.0</td>\n",
       "      <td>0.0</td>\n",
       "      <td>0.0</td>\n",
       "      <td>0.0</td>\n",
       "      <td>0.0</td>\n",
       "      <td>0.0</td>\n",
       "      <td>0.0</td>\n",
       "      <td>0.0</td>\n",
       "      <td>1.0</td>\n",
       "    </tr>\n",
       "    <tr>\n",
       "      <th>3</th>\n",
       "      <td>5108</td>\n",
       "      <td>1</td>\n",
       "      <td>39.0</td>\n",
       "      <td>1.0</td>\n",
       "      <td>29.0</td>\n",
       "      <td>1.0</td>\n",
       "      <td>0.0</td>\n",
       "      <td>0.0</td>\n",
       "      <td>0.0</td>\n",
       "      <td>0.0</td>\n",
       "      <td>0.0</td>\n",
       "      <td>0.0</td>\n",
       "      <td>0.0</td>\n",
       "      <td>1.0</td>\n",
       "    </tr>\n",
       "    <tr>\n",
       "      <th>4</th>\n",
       "      <td>5264</td>\n",
       "      <td>0</td>\n",
       "      <td>39.0</td>\n",
       "      <td>1.0</td>\n",
       "      <td>28.0</td>\n",
       "      <td>1.0</td>\n",
       "      <td>0.0</td>\n",
       "      <td>0.0</td>\n",
       "      <td>1.0</td>\n",
       "      <td>0.0</td>\n",
       "      <td>0.0</td>\n",
       "      <td>0.0</td>\n",
       "      <td>0.0</td>\n",
       "      <td>1.0</td>\n",
       "    </tr>\n",
       "  </tbody>\n",
       "</table>\n",
       "</div>"
      ],
      "text/plain": [
       "   recordID  babyhealth  gestweeks  sex   age  gravidity  parity  diabetes  \\\n",
       "0      5086           1       38.0  1.0  27.0        1.0     0.0       0.0   \n",
       "1      5491           0       40.0  1.0  32.0        1.0     1.0       1.0   \n",
       "2      5097           0       41.0  1.0  29.0        2.0     0.0       0.0   \n",
       "3      5108           1       39.0  1.0  29.0        1.0     0.0       0.0   \n",
       "4      5264           0       39.0  1.0  28.0        1.0     0.0       0.0   \n",
       "\n",
       "   hypertension  preeclampsia  pyrexia  meconium  noprogress  rectype  \n",
       "0           0.0           0.0      0.0       0.0         0.0      1.0  \n",
       "1           0.0           0.0      0.0       0.0         0.0     12.0  \n",
       "2           0.0           0.0      0.0       0.0         0.0      1.0  \n",
       "3           0.0           0.0      0.0       0.0         0.0      1.0  \n",
       "4           1.0           0.0      0.0       0.0         0.0      1.0  "
      ]
     },
     "execution_count": 7,
     "metadata": {},
     "output_type": "execute_result"
    }
   ],
   "source": [
    "data = pd.read_csv('train.csv')\n",
    "data.head()"
   ]
  },
  {
   "cell_type": "markdown",
   "metadata": {},
   "source": [
    "<h2>Database description </h2>\n",
    "<p><span style=\"font-size: 18px;\">The data contains the following fields:&nbsp;</span></p>\n",
    "<ul>\n",
    "    <li><span style=\"font-size: 18px;\"><strong>recordtD</strong>: Unique hash ID of partum record.&nbsp;</span></li>\n",
    "    <li><span style=\"font-size: 18px;\"><strong>babyhealth</strong>: (Outcome) indicates the overall health status of the baby at birth as measured according to the pH levels after birth. babyhealth is &apos;0&apos; if baby&apos;s health is considered normal, or &apos;1&apos;, if there is a health issue.&nbsp;</span></li>\n",
    "    <li><span style=\"font-size: 18px;\"><strong>gestweeks</strong>: is the number of weeks of gestation where 39-40 weeks represent a normal term delivery.&nbsp;</span></li>\n",
    "    <li><span style=\"font-size: 18px;\"><strong>sex</strong>: this is &apos;1&apos; for female, &apos;2&apos; for male.&nbsp;</span></li>\n",
    "    <li><span style=\"font-size: 18px;\"><strong>age</strong>: the age in years of the mother.&nbsp;</span></li>\n",
    "    <li><span style=\"font-size: 18px;\"><strong>gravidity</strong>: is the number of times the mother has been pregnant In her life.&nbsp;</span></li>\n",
    "    <li><span style=\"font-size: 18px;\"><strong>parity</strong>: is the number of times the woman has been pregnant for more than 24 weeks (in a single pregnancy).&nbsp;</span></li>\n",
    "    <li><span style=\"font-size: 18px;\"><strong>diabetes</strong>: binary value for diabetes: &apos;1&apos;: yes.&nbsp;</span></li>\n",
    "    <li><span style=\"font-size: 18px;\"><strong>hypertension</strong>: binary value for hypertension: &apos;1&apos;: yes.&nbsp;</span></li>\n",
    "    <li><span style=\"font-size: 18px;\"><strong>preeclampsia</strong>: binary value for preeclampsia: &apos;1&apos;: yes.&nbsp;</span></li>\n",
    "    <li><span style=\"font-size: 18px;\"><strong>pyrexia</strong>: binary value that indicates the presence of pyrexia (high temperature) in the mother (&apos;1&apos;) or not (&apos;0&apos;).&nbsp;</span></li>\n",
    "    <li><span style=\"font-size: 18px;\"><strong>meconium</strong>: binary value that indicates the presence (&apos;r) or not (&apos;O&apos;) of rneconiurn.&nbsp;</span></li>\n",
    "    <li><span style=\"font-size: 18px;\"><strong>noprogress</strong>: binary value that indicates if there has been an abort of the pregnancy (&apos;1&apos;) or not (&apos;0&apos;).&nbsp;</span></li>\n",
    "    <li><span style=\"font-size: 18px;\"><strong>rectype</strong>: codes the type of measurement device. It could be &apos;1&apos;: ultrasound, &apos;2&apos;: scalp, &apos;12&apos;: both. </span></li>\n",
    "</ul>"
   ]
  },
  {
   "cell_type": "code",
   "execution_count": 10,
   "metadata": {},
   "outputs": [
    {
     "name": "stdout",
     "output_type": "stream",
     "text": [
      "<class 'pandas.core.frame.DataFrame'>\n",
      "RangeIndex: 386 entries, 0 to 385\n",
      "Data columns (total 14 columns):\n",
      " #   Column        Non-Null Count  Dtype  \n",
      "---  ------        --------------  -----  \n",
      " 0   recordID      386 non-null    int64  \n",
      " 1   babyhealth    386 non-null    int64  \n",
      " 2   gestweeks     386 non-null    float64\n",
      " 3   sex           386 non-null    float64\n",
      " 4   age           386 non-null    float64\n",
      " 5   gravidity     384 non-null    float64\n",
      " 6   parity        386 non-null    float64\n",
      " 7   diabetes      386 non-null    float64\n",
      " 8   hypertension  386 non-null    float64\n",
      " 9   preeclampsia  386 non-null    float64\n",
      " 10  pyrexia       386 non-null    float64\n",
      " 11  meconium      386 non-null    float64\n",
      " 12  noprogress    386 non-null    float64\n",
      " 13  rectype       384 non-null    float64\n",
      "dtypes: float64(12), int64(2)\n",
      "memory usage: 42.3 KB\n"
     ]
    }
   ],
   "source": [
    "# Now we will look at the basic info about the data.\n",
    "data.info()"
   ]
  },
  {
   "cell_type": "code",
   "execution_count": 84,
   "metadata": {},
   "outputs": [
    {
     "name": "stdout",
     "output_type": "stream",
     "text": [
      "Number of null values in each columns is shown below:\n",
      "\n",
      "recordID        0\n",
      "babyhealth      0\n",
      "gestweeks       0\n",
      "sex             0\n",
      "age             0\n",
      "gravidity       2\n",
      "parity          0\n",
      "diabetes        0\n",
      "hypertension    0\n",
      "preeclampsia    0\n",
      "pyrexia         0\n",
      "meconium        0\n",
      "noprogress      0\n",
      "rectype         2\n",
      "dtype: int64\n",
      "\n",
      "The list after filling the missing values is shown below:\n",
      "\n",
      "recordID        0\n",
      "babyhealth      0\n",
      "gestweeks       0\n",
      "sex             0\n",
      "age             0\n",
      "gravidity       2\n",
      "parity          0\n",
      "diabetes        0\n",
      "hypertension    0\n",
      "preeclampsia    0\n",
      "pyrexia         0\n",
      "meconium        0\n",
      "noprogress      0\n",
      "rectype         2\n",
      "dtype: int64\n"
     ]
    }
   ],
   "source": [
    "# From the above table we can see that the data does not contain any null values\n",
    "# but still for lets find out the number of null values in each column.\n",
    "print('Number of null values in each columns is shown below:\\n')\n",
    "print(data.isna().sum())\n",
    "\n",
    "# Now lets fill the null values with the mode of the corresponding column.\n",
    "\n",
    "for col in data.columns:\n",
    "    data.fillna(data[col].mode()[0])\n",
    "print('\\nThe list after filling the missing values is shown below:\\n')\n",
    "print(data.isna().sum())"
   ]
  },
  {
   "cell_type": "code",
   "execution_count": 15,
   "metadata": {},
   "outputs": [
    {
     "data": {
      "image/png": "[encoded data removed]",
      "text/plain": [
       "<Figure size 576x432 with 1 Axes>"
      ]
     },
     "metadata": {
      "needs_background": "light"
     },
     "output_type": "display_data"
    }
   ],
   "source": [
    "# Proportion of different categories of the Baby health is shown below in countplot\n",
    "\n",
    "plt.figure(figsize = (8, 6))\n",
    "sns.countplot(data['babyhealth'])\n",
    "plt.show()"
   ]
  },
  {
   "cell_type": "markdown",
   "metadata": {},
   "source": [
    "<table align=\"left\">\n",
    "    <tr>\n",
    "        <td width=\"6%\">\n",
    "            <img src=\"http://www.pngall.com/wp-content/uploads/2/Question-Mark-PNG-Picture.png\">\n",
    "        </td>\n",
    "        <td>\n",
    "                    <b><p><span style=\"font-size: 18px;\">1. What is the average age of mothers for male and female babies? </span></p>\n",
    "</b>\n",
    "        </td>\n",
    "    </tr>\n",
    "</table>"
   ]
  },
  {
   "cell_type": "code",
   "execution_count": 22,
   "metadata": {},
   "outputs": [
    {
     "name": "stdout",
     "output_type": "stream",
     "text": [
      "The average age of mothers for male babies is 29.61\n",
      "The average age of mothers for female babies is 29.78\n"
     ]
    }
   ],
   "source": [
    "temp = data.groupby('sex')['age'].mean()\n",
    "\n",
    "print(f'The average age of mothers for male babies is {round(temp[2.0], 2)}')\n",
    "print(f'The average age of mothers for female babies is {round(temp[1.0], 2)}')\n"
   ]
  },
  {
   "cell_type": "markdown",
   "metadata": {},
   "source": [
    "<p><span style=\"font-size: 18px;\">The above result shows that there is no significant relationship between the age of the mother and the gender of the baby, since the average age of mother for male babies and for female babies is almost the same.</span></p>"
   ]
  },
  {
   "cell_type": "markdown",
   "metadata": {},
   "source": [
    "<table align=\"left\">\n",
    "    <tr>\n",
    "        <td width=\"6%\">\n",
    "            <img src=\"http://www.pngall.com/wp-content/uploads/2/Question-Mark-PNG-Picture.png\">\n",
    "        </td>\n",
    "        <td>\n",
    "                    <b><p><span style=\"font-size: 18px;\">2. What is the value under which 95% of the gestweeks would lie? </span></p></b>\n",
    "        </td>\n",
    "    </tr>\n",
    "</table>"
   ]
  },
  {
   "cell_type": "code",
   "execution_count": 27,
   "metadata": {},
   "outputs": [
    {
     "name": "stdout",
     "output_type": "stream",
     "text": [
      "The value under which 95% of the gestweeks would lie is 41.0\n"
     ]
    }
   ],
   "source": [
    "temp = data['gestweeks'].quantile(0.95)\n",
    "print(f'The value under which 95% of the gestweeks would lie is {temp}')"
   ]
  },
  {
   "cell_type": "markdown",
   "metadata": {},
   "source": [
    "<table align=\"left\">\n",
    "    <tr>\n",
    "        <td width=\"6%\">\n",
    "            <img src=\"http://www.pngall.com/wp-content/uploads/2/Question-Mark-PNG-Picture.png\">\n",
    "        </td>\n",
    "        <td>\n",
    "                    <b><p><span style=\"font-size: 18px;\">3. Identify the parity for most of the mothers?</span> </p></b>\n",
    "        </td>\n",
    "    </tr>\n",
    "</table>"
   ]
  },
  {
   "cell_type": "code",
   "execution_count": 32,
   "metadata": {},
   "outputs": [
    {
     "name": "stdout",
     "output_type": "stream",
     "text": [
      "The parity of most of the mothers is 0.0\n"
     ]
    }
   ],
   "source": [
    "parity_count = data.groupby('parity').count()\n",
    "parity_count.reset_index(inplace=True)\n",
    "max_parity = parity_count[parity_count['babyhealth'] == parity_count['babyhealth'].max()]['parity'].iloc[0]\n",
    "print(f'The parity of most of the mothers is {max_parity}')\n"
   ]
  },
  {
   "cell_type": "markdown",
   "metadata": {},
   "source": [
    "<p><span style=\"font-size: 18px;\">Parity is defined as the number of times that a woman has given birth to a fetus with a gestational age of 24 weeks or more, regardless of whether the child was born alive or was stillborn.&nbsp;</span></p>\n",
    "<p><span style=\"font-size: 18px;\">The above result shows that the parity of most of the women is 0, which means that most of the women have never given birth to a fetus with a gestational age of 24 weeks or more.</span></p>"
   ]
  },
  {
   "cell_type": "markdown",
   "metadata": {},
   "source": [
    "<table align=\"left\">\n",
    "    <tr>\n",
    "        <td width=\"6%\">\n",
    "            <img src=\"http://www.pngall.com/wp-content/uploads/2/Question-Mark-PNG-Picture.png\">\n",
    "        </td>\n",
    "        <td>\n",
    "                    <b><p><span style=\"font-size: 18px;\">4. Compare the mean and trimmed mean of age and comment on the presence of outliers. Back your answer up with a boxplot.</span></p> </b>\n",
    "        </td>\n",
    "    </tr>\n",
    "</table>"
   ]
  },
  {
   "cell_type": "code",
   "execution_count": 35,
   "metadata": {},
   "outputs": [
    {
     "name": "stdout",
     "output_type": "stream",
     "text": [
      "Trimmed min: 29.671916010498688\n",
      "Normal min 29.707253886010363\n"
     ]
    }
   ],
   "source": [
    "trimmed_age = data[data['age'] != data['age'].min()]\n",
    "trimmed_age = trimmed_age[trimmed_age['age'] != trimmed_age['age'].max()]['age']\n",
    "\n",
    "print(f'Trimmed min: {trimmed_age.mean()}')\n",
    "print(f\"Normal min {data['age'].mean()}\")"
   ]
  },
  {
   "cell_type": "code",
   "execution_count": 36,
   "metadata": {},
   "outputs": [
    {
     "data": {
      "image/png": "[encoded data removed]",
      "text/plain": [
       "<Figure size 576x432 with 1 Axes>"
      ]
     },
     "metadata": {
      "needs_background": "light"
     },
     "output_type": "display_data"
    }
   ],
   "source": [
    "plt.figure(figsize = (8, 6))\n",
    "sns.boxplot(data['age'])\n",
    "plt.show()"
   ]
  },
  {
   "cell_type": "markdown",
   "metadata": {},
   "source": [
    "<p><span style=\"font-size: 18px;\">If the trimmed mean and the normal mean differ significantly then we can say that the data contains some outliers, but in this case, the difference between the trimmed mean and the normal mean is very small, which clearly concludes that there is no outlier present in the age column.</span></p>\n",
    "<p><span style=\"font-size: 18px;\">From the boxplot, we can see that the data does not contain any outliers too.</span></p>"
   ]
  },
  {
   "cell_type": "markdown",
   "metadata": {},
   "source": [
    "<table align=\"left\">\n",
    "    <tr>\n",
    "        <td width=\"6%\">\n",
    "            <img src=\"http://www.pngall.com/wp-content/uploads/2/Question-Mark-PNG-Picture.png\">\n",
    "        </td>\n",
    "        <td>\n",
    "                    <b><p><span style=\"font-size: 18px;\">5. Find the percentage variation in age for the diabetic and non-diabetic patients.</span></p></b>\n",
    "        </td>\n",
    "    </tr>\n",
    "</table>"
   ]
  },
  {
   "cell_type": "code",
   "execution_count": 58,
   "metadata": {
    "scrolled": true
   },
   "outputs": [
    {
     "name": "stdout",
     "output_type": "stream",
     "text": [
      "percentage variation in age for diabetic and non diabetic patients is shown below\n",
      "\n",
      "Non-diabetic: 58.10333793233483\n",
      "Diabetic    : 41.89666206766516\n"
     ]
    }
   ],
   "source": [
    "temp = data.groupby('diabetes')['age'].var()\n",
    "perc_var = temp / data.groupby('diabetes')['age'].var().sum()*100\n",
    "print(f\"percentage variation in age for diabetic and non diabetic patients is shown below\\n\")\n",
    "for diab in perc_var.index:\n",
    "    if diab == 1:\n",
    "        print(f'Diabetic    : {perc_var[diab]}')\n",
    "    else:\n",
    "        print(f'Non-diabetic: {perc_var[diab]}')"
   ]
  },
  {
   "cell_type": "markdown",
   "metadata": {},
   "source": [
    "<table align=\"left\">\n",
    "    <tr>\n",
    "        <td width=\"6%\">\n",
    "            <img src=\"http://www.pngall.com/wp-content/uploads/2/Question-Mark-PNG-Picture.png\">\n",
    "        </td>\n",
    "        <td>\n",
    "                    <b><p><span style=\"font-size: 18px;\">6. Define a function to plot the categories of the rectype and find the category with the highest frequency </span></p></b>\n",
    "        </td>\n",
    "    </tr>\n",
    "</table>"
   ]
  },
  {
   "cell_type": "code",
   "execution_count": 66,
   "metadata": {},
   "outputs": [
    {
     "name": "stdout",
     "output_type": "stream",
     "text": [
      "The category with highest frequency is ultrasound\n"
     ]
    },
    {
     "data": {
      "image/png": "[encoded data removed]",
      "text/plain": [
       "<Figure size 576x432 with 1 Axes>"
      ]
     },
     "metadata": {
      "needs_background": "light"
     },
     "output_type": "display_data"
    }
   ],
   "source": [
    "rectype = {1: 'ultrasound', 2: 'scalp', 12: 'both'}\n",
    "def plot(df, col):\n",
    "    def change_rec_name(rec):\n",
    "        return rectype[rec]\n",
    "    plt.figure(figsize = (8, 6))\n",
    "    sns.countplot(df[col].dropna().apply(change_rec_name))\n",
    "    freq = df.groupby(col).count()\n",
    "    freq = freq.reset_index()\n",
    "    return freq[freq[freq.columns[-1]] == freq[freq.columns[-1]].max()][col].iloc[0]\n",
    "\n",
    "res = plot(data, 'rectype')\n",
    "print(f'The category with highest frequency is {rectype[res]}')"
   ]
  },
  {
   "cell_type": "markdown",
   "metadata": {},
   "source": [
    "<table align=\"left\">\n",
    "    <tr>\n",
    "        <td width=\"6%\">\n",
    "            <img src=\"http://www.pngall.com/wp-content/uploads/2/Question-Mark-PNG-Picture.png\">\n",
    "        </td>\n",
    "        <td>\n",
    "                    <b><p><span style=\"font-size: 18px;\">7. What is the probability of a male baby to be health, find the same for the female baby. </span></p></b>\n",
    "        </td>\n",
    "    </tr>\n",
    "</table>"
   ]
  },
  {
   "cell_type": "code",
   "execution_count": 68,
   "metadata": {},
   "outputs": [
    {
     "name": "stdout",
     "output_type": "stream",
     "text": [
      "The posibility of a baby of bieng healthy if it is boy is : 81.5028901734104\n",
      "The posibility of a baby of bieng healthy if it is girl is : 79.81220657276995\n"
     ]
    }
   ],
   "source": [
    "male = data[data['sex'] == 2]\n",
    "healthy_baby = male[male['babyhealth'] == 0]['recordID'].count()\n",
    "un_healthy_baby = male[male['babyhealth'] == 1]['recordID'].count()\n",
    "\n",
    "prob = healthy_baby/(un_healthy_baby + healthy_baby)*100\n",
    "\n",
    "print(f'The posibility of a baby of bieng healthy if it is boy is : {prob}')\n",
    "\n",
    "\n",
    "# Lets check the same for female babies as well\n",
    "\n",
    "female = data[data['sex'] == 1]\n",
    "healthy_baby = female[female['babyhealth'] == 0]['recordID'].count()\n",
    "un_healthy_baby = female[female['babyhealth'] == 1]['recordID'].count()\n",
    "\n",
    "prob = healthy_baby/(un_healthy_baby + healthy_baby)*100\n",
    "\n",
    "print(f'The posibility of a baby of bieng healthy if it is girl is : {prob}')"
   ]
  },
  {
   "cell_type": "markdown",
   "metadata": {},
   "source": [
    "<p><span style=\"font-size: 18px;\">From the above result, we can clearly conclude that the probability for a male baby to be healthy is more than the probability of a female baby to be healthy.&nbsp;</span></p>"
   ]
  },
  {
   "cell_type": "markdown",
   "metadata": {},
   "source": [
    "<table align=\"left\">\n",
    "    <tr>\n",
    "        <td width=\"6%\">\n",
    "            <img src=\"http://www.pngall.com/wp-content/uploads/2/Question-Mark-PNG-Picture.png\">\n",
    "        </td>\n",
    "        <td>\n",
    "                    <b><p><span style=\"font-size: 18px;\">8. Given that the mother is diabetic and the rectype is ultrasound find out if the health of the baby is good or not.</span></p></b>\n",
    "        </td>\n",
    "    </tr>\n",
    "</table>"
   ]
  },
  {
   "cell_type": "code",
   "execution_count": 77,
   "metadata": {},
   "outputs": [
    {
     "name": "stdout",
     "output_type": "stream",
     "text": [
      "Given that the mother is diabetic and the rectype is ultrasound\n",
      "    the baby will be healthy with a probability of 81.25\n"
     ]
    }
   ],
   "source": [
    "rectypeinv = {'ultrasound': 1, 'scalp': 2, 'both': 3}\n",
    "\n",
    "temp = data[(data['diabetes'] == 1) & (data['rectype'] == rectypeinv['ultrasound'])]\n",
    "cnt_healthy = temp.groupby('babyhealth').count()['recordID'][0]\n",
    "cnt_total = temp['recordID'].count()\n",
    "\n",
    "prob_healthy = cnt_healthy / cnt_total * 100\n",
    "\n",
    "if prob_healthy >= 75:\n",
    "    print(f'''Given that the mother is diabetic and the rectype is ultrasound\n",
    "    the baby will be healthy with a probability of {prob_healthy}''')\n",
    "else:\n",
    "    print(f'''Given that the mother is diabetic and the rectype is ultrasound\n",
    "    the baby will be healthy''')"
   ]
  },
  {
   "cell_type": "markdown",
   "metadata": {},
   "source": [
    "<p><span style=\"font-size: 18px;\">From the above result, we can see that the probability for a child to be healthy is more than 80% even if the mother suffers from a medical condition like diabetes. So, we can clearly conclude that the diabetes of the mother has not a lot to do with the health of the baby.</span></p>"
   ]
  },
  {
   "cell_type": "markdown",
   "metadata": {},
   "source": [
    "<table align=\"left\">\n",
    "    <tr>\n",
    "        <td width=\"6%\">\n",
    "            <img src=\"http://www.pngall.com/wp-content/uploads/2/Question-Mark-PNG-Picture.png\">\n",
    "        </td>\n",
    "        <td>\n",
    "                    <b>\n",
    "                        <p>\n",
    "                            <span style=\"font-size: 18px;\">\n",
    "                                9. What are the chances for a baby to be healthy if the mother is not very young? Compare the result with the same of a young mother.\n",
    "                            </span>\n",
    "                        </p>\n",
    "                        <p>\n",
    "                            Note: Consider a woman to be not very young if she is of age more than that of the mean of the age column.\n",
    "                        </p>\n",
    "                    </b>\n",
    "        </td>\n",
    "    </tr>\n",
    "</table>"
   ]
  },
  {
   "cell_type": "code",
   "execution_count": 80,
   "metadata": {},
   "outputs": [
    {
     "name": "stdout",
     "output_type": "stream",
     "text": [
      "There is a 83.74384236453201% probability that the baby will be healthy if the mother is not very young.\n",
      "There is a 77.04918032786885% probability that the baby will be healthy if the mother is young.\n"
     ]
    }
   ],
   "source": [
    "temp = data[data['age'] > data['age'].mean()]\n",
    "cnt_healthy = temp.groupby('babyhealth').count()['recordID'][0]\n",
    "cnt_total = temp['recordID'].count()\n",
    "\n",
    "prob_healthy = cnt_healthy / cnt_total * 100\n",
    "\n",
    "print(f'There is a {prob_healthy}% probability that the baby will be healthy if the mother is not very young.')\n",
    "\n",
    "# Now lets do the same for the young mothers\n",
    "temp = data[data['age'] <= data['age'].mean()]\n",
    "cnt_healthy = temp.groupby('babyhealth').count()['recordID'][0]\n",
    "cnt_total = temp['recordID'].count()\n",
    "\n",
    "prob_healthy = cnt_healthy / cnt_total * 100\n",
    "\n",
    "print(f'There is a {prob_healthy}% probability that the baby will be healthy if the mother is young.')\n"
   ]
  },
  {
   "cell_type": "markdown",
   "metadata": {},
   "source": [
    "<p><span style=\"font-size: 18px;\">The above result shows that the probability of a baby to be healthy is 83.74% if the mother is not very young and the probability for the baby to be healthy if the mother is young is 74.04%. From the result, we can conclude that it&apos;s better for any woman to be not very young if the baby is supposed to be surely healthy.</span></p>"
   ]
  }
 ],
 "metadata": {
  "kernelspec": {
   "display_name": "Python 3",
   "language": "python",
   "name": "python3"
  },
  "language_info": {
   "codemirror_mode": {
    "name": "ipython",
    "version": 3
   },
   "file_extension": ".py",
   "mimetype": "text/x-python",
   "name": "python",
   "nbconvert_exporter": "python",
   "pygments_lexer": "ipython3",
   "version": "3.6.8"
  }
 },
 "nbformat": 4,
 "nbformat_minor": 2
}
